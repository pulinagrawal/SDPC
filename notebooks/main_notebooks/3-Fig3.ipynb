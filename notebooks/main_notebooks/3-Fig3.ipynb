{
 "cells": [
  {
   "cell_type": "code",
   "execution_count": 1,
   "metadata": {},
   "outputs": [],
   "source": [
    "import numpy as np\n",
    "#from LogGabor import LogGaborFit\n",
    "import matplotlib.pyplot as plt\n",
    "from torchvision.utils import make_grid, save_image\n",
    "import torch\n",
    "from SDPC_PCB.Coding import ML_Lasso,ML_FISTA\n",
    "import pickle\n",
    "from SDPC_PCB.DataTools import LCN, whitening, z_score, mask, to_cuda, norm\n",
    "import torch.nn.functional as f\n",
    "\n",
    "from SDPC_PCB.DataTools import DataBase, ssim\n",
    "from SDPC_PCB.Network import LayerPC, Network\n",
    "from SDPC_PCB.Coding import ML_Lasso,ML_FISTA\n",
    "from SDPC_PCB.DataTools import DataBase\n",
    "\n",
    "from SDPC_PCB.Optimizers import mySGD, myAdam\n",
    "import torch.nn.functional as f\n",
    "import torch.nn as nn\n",
    "import torch\n",
    "import time\n",
    "import tensorboardX\n",
    "from SDPC_PCB.DataTools import LCN, whitening, z_score, mask, to_cuda, norm\n",
    "from torchvision.utils import make_grid\n",
    "import numpy as np\n",
    "from tensorboardX import SummaryWriter\n",
    "import pickle\n",
    "from torchvision.transforms import ToTensor, Compose\n",
    "from torchvision import transforms\n",
    "from torch.utils.data import DataLoader\n",
    "from torchvision.datasets import STL10\n",
    "import torch.optim as optim\n",
    "from SDPC.Monitor import Monitor\n",
    "import math\n",
    "\n",
    "import matplotlib.pyplot as plt\n",
    "from LogGabor import LogGaborFit\n",
    "from scipy.stats import wilcoxon"
   ]
  },
  {
   "cell_type": "code",
   "execution_count": 2,
   "metadata": {},
   "outputs": [],
   "source": [
    "cmap1=plt.get_cmap('tab20c')\n",
    "cmap2=plt.get_cmap('tab20b')\n",
    "color_fb=[cmap1(21),cmap1(3),cmap1(2),cmap1(1),cmap1(0)]"
   ]
  },
  {
   "cell_type": "markdown",
   "metadata": {},
   "source": [
    "## Fig 3a"
   ]
  },
  {
   "cell_type": "code",
   "execution_count": 3,
   "metadata": {},
   "outputs": [],
   "source": [
    "data_path = '../DataSet/STL10'\n",
    "\n",
    "transform = Compose([ToTensor(),\n",
    "                    to_cuda(),\n",
    "                    whitening((96,96),f_0=0.5),\n",
    "                    LCN(kernel_size=9,sigma=0.5,rgb=True),\n",
    "                    z_score(),\n",
    "                    mask((96,96))])\n",
    "\n",
    "dataset = STL10(data_path, transform=transform, download=False, split='test')\n",
    "\n",
    "DataBase = DataLoader(dataset, batch_size=40, shuffle=False, drop_last=True)"
   ]
  },
  {
   "cell_type": "code",
   "execution_count": 16,
   "metadata": {},
   "outputs": [
    {
     "name": "stdout",
     "output_type": "stream",
     "text": [
      "STL_[0.4,1.6]_b=1.pkl\n",
      "STL_[0.4,1.6]_b=1.pkl\n",
      "STL_[0.4,1.6]_b=1.pkl\n",
      "STL_[0.4,1.6]_b=1.pkl\n",
      "STL_[0.4,1.6]_b=1.pkl\n"
     ]
    }
   ],
   "source": [
    "save_simulation = False\n",
    "\n",
    "where = 'Savings/STL/'\n",
    "model_name = 'STL_[0.4,1.6]_b=1.pkl'\n",
    "saving_path = where + 'Saving_STL_Fig3a.pkl'\n",
    "feedback_list = [0,1,2,3,4]\n",
    "nb_batch = 30\n",
    "nb_image=nb_batch*40\n",
    "\n",
    "all_sparsity = torch.zeros(nb_image,len(feedback_list),2)\n",
    "all_activity = torch.zeros(len(feedback_list),2)\n",
    "\n",
    "if save_simulation == True:\n",
    "    \n",
    "    for k_FB in feedback_list:\n",
    "        idx_model=k_FB\n",
    "        k=0\n",
    "        model_type = model_name[0:8]\n",
    "        name = model_name\n",
    "        print(name)\n",
    "\n",
    "        path = where + name\n",
    "        with open(path, 'rb') as file:\n",
    "            out = pickle.load(file)\n",
    "        Net = out['Net']\n",
    "        \n",
    "        for i in range(Net.nb_layers):\n",
    "            Net.layers[i].b = k_FB\n",
    "        Loss = ML_Lasso(Net, [0.4,1.6])\n",
    "        Pursuit = ML_FISTA(Net, Loss, max_iter=1000, th=1e-4, mode='eigen', accell=True)\n",
    "        histo = [0,0]\n",
    "        \n",
    "        for idx_batch, data in enumerate(DataBase):\n",
    "            batch = data[0].cuda()\n",
    "            gamma, it, Loss_G, delta = Pursuit.coding(batch)\n",
    "\n",
    "            for i in range(Net.nb_layers):\n",
    "                nb_null = (gamma[i]!=0).float().view(gamma[i].size(0),-1).sum(-1)\n",
    "                volume = gamma[i].size(1)*gamma[i].size(2)*gamma[i].size(3)\n",
    "                all_sparsity[k:k+batch.size(0),idx_model,i] = (1-nb_null/volume)*100\n",
    "                freq = (gamma[i]!=0).view(batch.size(0),gamma[i].size(1),-1)\n",
    "                freq = freq.sum(-1).sum(0)\n",
    "            \n",
    "            k+=batch.size(0)\n",
    "            if k >= nb_image:\n",
    "                break        \n",
    "\n",
    "    Exp = {'model_name': feedback_list,\n",
    "            'sparsity' : all_sparsity}\n",
    "    \n",
    "    with open(saving_path, 'wb') as file:\n",
    "        pickle.dump(Exp, file, pickle.HIGHEST_PROTOCOL)\n",
    "else : \n",
    "    with open(saving_path, 'rb') as file:\n",
    "        Exp = pickle.load(file)\n",
    "    "
   ]
  },
  {
   "cell_type": "code",
   "execution_count": 17,
   "metadata": {},
   "outputs": [
    {
     "data": {
      "image/png": "[encoded data removed]",
      "text/plain": [
       "<Figure size 460.8x360 with 1 Axes>"
      ]
     },
     "metadata": {},
     "output_type": "display_data"
    }
   ],
   "source": [
    "save_fig = False\n",
    "figsize = (6.4,5)\n",
    "\n",
    "labels = ['$k_{FB}=0$','$k_{FB}=1$','$k_{FB}=2$','$k_{FB}=3$','$k_{FB}=4$']\n",
    "\n",
    "mean_sp = Exp['sparsity'].mean(dim=0)\n",
    "std_sp = Exp['sparsity'].std(dim=0)\n",
    "model_name_list = Exp['model_name']\n",
    "list_layer= np.arange(len(model_name_list))\n",
    "N = len(list_layer)\n",
    "position = [1 + 1*i for i in range(N)] \n",
    "\n",
    "\n",
    "width = 0.75 \n",
    "\n",
    "fig = plt.figure(figsize=figsize)\n",
    "\n",
    "plot_SDPC = plt.bar(position, 100-mean_sp[:,0].numpy(),  yerr=std_sp[:,0].numpy(), align='center',\n",
    "                 capsize=2,width=0.75, color=['slategrey',cmap1(3),cmap1(2),cmap1(1),cmap1(0)])\n",
    "\n",
    "plt.ylabel('% of active neurons', fontsize=15, labelpad=10)\n",
    "xticks_position = [1 +1*i for i in range(N)]\n",
    "plt.xlabel('feedback strength '+ r'($k_{FB}$)', fontsize=15, labelpad=10)\n",
    "plt.xticks(xticks_position,list_layer , fontsize=15)\n",
    "#plt.title('a) - First Layer sparsity when increasing the \\nfeedback strenght', fontsize=15, pad=15)\n",
    "#plt.ylim()\n",
    "plt.yticks([0,5,10,15,20,25], fontsize=15)\n",
    "#plt.title('i) - AT&T', fontsize=15)\n",
    "'''\n",
    "for i in range(5):\n",
    "    plot_SDPC[i].set_label(labels[i])\n",
    "\n",
    "\n",
    "plt.legend(loc='lower center',bbox_to_anchor=(0.5, -0.5),ncol=5,fontsize=15)\n",
    "'''\n",
    "plt.tight_layout()\n",
    "\n",
    "if save_fig == True:\n",
    "    '''\n",
    "    plt.savefig('Fig3/histo_legend.png', bbox_inches = 'tight', pad_inches = 0.5, dpi= 400)\n",
    "    '''\n",
    "    plt.savefig('Savings/Fig/Fig3/Fig3a.png', bbox_inches = 'tight', pad_inches = 0, dpi= 400)\n",
    "    \n",
    "\n",
    "plt.show()"
   ]
  },
  {
   "cell_type": "markdown",
   "metadata": {},
   "source": [
    "### Stastistical tests"
   ]
  },
  {
   "cell_type": "code",
   "execution_count": 18,
   "metadata": {},
   "outputs": [
    {
     "name": "stdout",
     "output_type": "stream",
     "text": [
      "p_value Wilcoxon signed rank\n",
      "p_value \n",
      "\n",
      "fb=1/fb=0 = 4.07E-198 -- \n",
      "fb=2/fb=0 = 4.07E-198 -- fb=2/fb=1 = 4.07E-198 -- \n",
      "fb=3/fb=0 = 4.07E-198 -- fb=3/fb=1 = 4.07E-198 -- fb=3/fb=2 = 4.07E-198 -- \n",
      "fb=4/fb=0 = 4.07E-198 -- fb=4/fb=1 = 4.07E-198 -- fb=4/fb=2 = 4.07E-198 -- fb=4/fb=3 = 4.07E-198 -- \n",
      "\n"
     ]
    }
   ],
   "source": [
    "from decimal import Decimal\n",
    "\n",
    "sp = Exp['sparsity']\n",
    "\n",
    "print('p_value Wilcoxon signed rank')\n",
    "to_print=''\n",
    "for i in range(5):\n",
    "    for j in range(5):\n",
    "        if i>j:\n",
    "            test = wilcoxon(sp[:,j,0],sp[:,i,0], alternative='greater')\n",
    "            #test = ttest_rel(relative_coli_R1_ref[:,i],relative_coli_R1_ref[:,j])\n",
    "            to_print+='fb={0}/fb={1} = {2:0.2E} -- '.format(i,j,Decimal(test[1]))\n",
    "    to_print+='\\n'\n",
    "print('p_value \\n' + to_print)"
   ]
  },
  {
   "cell_type": "markdown",
   "metadata": {},
   "source": [
    "## Fig 3b"
   ]
  },
  {
   "cell_type": "code",
   "execution_count": 19,
   "metadata": {},
   "outputs": [
    {
     "name": "stdout",
     "output_type": "stream",
     "text": [
      "warning: Not all batches have the same size, the last one will be dropped...\n"
     ]
    }
   ],
   "source": [
    "from SDPC_PCB.DataTools import DataBase\n",
    "\n",
    "data_path ='../DataSet/CF_DB_testing/'\n",
    "\n",
    "LCN_params = {'kernel_size':11,\n",
    "'sigma':0.5,\n",
    "'rgb':True}\n",
    "\n",
    "mask_params={'n': 10}# default is 10\n",
    "\n",
    "whitening_params={'f_0':0.5,\n",
    "'n':2}\n",
    "\n",
    "Data_load_param = {'batch_size': 40,\n",
    "'do_LCN': True,\n",
    "'LCN_params': LCN_params,\n",
    "'do_mask': True,\n",
    "'mask_params': mask_params,\n",
    "'do_whitening': True,\n",
    "'whitening_params': whitening_params,\n",
    "'do_z_score': True,\n",
    "'return_idx': False}\n",
    "\n",
    "Facedata = DataBase('from_ImageFolder', data_path, img_size=(100,124), reshaped_size=(120,171),**Data_load_param, shuffle=False)"
   ]
  },
  {
   "cell_type": "code",
   "execution_count": null,
   "metadata": {},
   "outputs": [
    {
     "name": "stdout",
     "output_type": "stream",
     "text": [
      "CFD_[0.3,1.6]_b=1.pkl\n",
      "CFD_[0.3,1.6]_b=1.pkl\n",
      "CFD_[0.3,1.6]_b=1.pkl\n",
      "CFD_[0.3,1.6]_b=1.pkl\n",
      "CFD_[0.3,1.6]_b=1.pkl\n"
     ]
    }
   ],
   "source": [
    "save_simulation = False\n",
    "\n",
    "where = 'Savings/CFD/'\n",
    "model_name = 'CFD_[0.3,1.6]_b=1.pkl'\n",
    "saving_path = 'Savings/CFD/Fig3b.pkl'\n",
    "feedback_list = [0,1,2,3,4]\n",
    "nb_batch = 10\n",
    "nb_image=nb_batch*40\n",
    "\n",
    "all_sparsity = torch.zeros(nb_image,len(feedback_list),2)\n",
    "all_activity = torch.zeros(len(feedback_list),2)\n",
    "\n",
    "if save_simulation == True:\n",
    "    \n",
    "    for k_FB in feedback_list:\n",
    "        idx_model=k_FB\n",
    "        k=0\n",
    "        model_type = model_name[0:8]\n",
    "        name = model_name\n",
    "        print(name)\n",
    "\n",
    "        path = where + name\n",
    "        with open(path, 'rb') as file:\n",
    "            out = pickle.load(file)\n",
    "        Net = out['Net']\n",
    "        for i in range(Net.nb_layers):\n",
    "            Net.layers[i].b = k_FB\n",
    "        Loss = ML_Lasso(Net, [0.3,1.6])\n",
    "        Pursuit = ML_FISTA(Net, Loss, max_iter=1000, th=5e-3, mode='eigen', accell=True)\n",
    "        histo = [0,0]\n",
    "        \n",
    "        for idx_batch, data in enumerate(Facedata.data):\n",
    "            batch = data[0].cuda()\n",
    "            gamma, it, Loss_G, delta = Pursuit.coding(batch)\n",
    "\n",
    "            for i in range(Net.nb_layers):\n",
    "                nb_null = (gamma[i]!=0).float().view(gamma[i].size(0),-1).sum(-1)\n",
    "                volume = gamma[i].size(1)*gamma[i].size(2)*gamma[i].size(3)\n",
    "                all_sparsity[k:k+batch.size(0),idx_model,i] = (1-nb_null/volume)*100\n",
    "            k+=batch.size(0)\n",
    "            if k >= nb_image:\n",
    "                break\n",
    "\n",
    "        \n",
    "        \n",
    "        \n",
    "\n",
    "    Exp = {'model_name': feedback_list,\n",
    "            'sparsity' : all_sparsity}\n",
    "\n",
    "    \n",
    "    with open(saving_path, 'wb') as file:\n",
    "        pickle.dump(Exp, file, pickle.HIGHEST_PROTOCOL)\n",
    "else : \n",
    "    with open(saving_path, 'rb') as file:\n",
    "        Exp = pickle.load(file)\n",
    "    "
   ]
  },
  {
   "cell_type": "code",
   "execution_count": null,
   "metadata": {},
   "outputs": [],
   "source": [
    "save_fig = False\n",
    "figsize = (6.4,5)\n",
    "\n",
    "\n",
    "\n",
    "mean_sp = Exp['sparsity'].mean(dim=0)\n",
    "std_sp = Exp['sparsity'].std(dim=0)\n",
    "model_name_list = Exp['model_name']\n",
    "list_layer= np.arange(len(model_name_list))\n",
    "N = len(list_layer)\n",
    "position = [1 + 1*i for i in range(N)] \n",
    "\n",
    "\n",
    "width = 0.75 \n",
    "\n",
    "fig = plt.figure(figsize=figsize)\n",
    "\n",
    "plot_SDPC = plt.bar(position, 100-mean_sp[:,0].numpy(),  yerr=std_sp[:,0].numpy(), align='center',\n",
    "                 capsize=2,width=0.75, color=['slategrey',cmap1(3),cmap1(2),cmap1(1),cmap1(0)])\n",
    "\n",
    "plt.ylabel('% of active neurons', fontsize=15, labelpad=10)\n",
    "xticks_position = [1 +1*i for i in range(N)]\n",
    "plt.xlabel('feedback strength '+ r'($k_{FB}$)', fontsize=15, labelpad=10)\n",
    "plt.xticks(xticks_position,list_layer , fontsize=15)\n",
    "#plt.title('a) - First Layer sparsity when increasing the \\nfeedback strenght', fontsize=15, pad=15)\n",
    "\n",
    "plt.yticks([0,4,8,12,16,20], fontsize=15)\n",
    "\n",
    "plt.tight_layout()\n",
    "if save_fig == True:\n",
    "    plt.savefig('Savings/Fig/Fig3/Fig3b.png', bbox_inches = 'tight', pad_inches = 0, dpi= 400)\n",
    "\n",
    "\n",
    "plt.show()\n",
    "res = 100-mean_sp[:,0]\n",
    "diff = [res[i+1] - res[i] for i in range(4)]\n",
    "\n",
    "print(100-mean_sp[:,0].numpy())\n",
    "print(diff)\n",
    "\n",
    "print(std_sp[:,0])\n",
    "\n",
    "\n",
    "\n"
   ]
  },
  {
   "cell_type": "markdown",
   "metadata": {},
   "source": [
    "### Statisticial tests"
   ]
  },
  {
   "cell_type": "code",
   "execution_count": null,
   "metadata": {},
   "outputs": [],
   "source": [
    "from decimal import Decimal\n",
    "\n",
    "sp = Exp['sparsity']\n",
    "\n",
    "print('p_value Wilcoxon signed rank')\n",
    "to_print=''\n",
    "for i in range(5):\n",
    "    for j in range(5):\n",
    "        if i>j:\n",
    "            test = wilcoxon(sp[:,j,0],sp[:,i,0], alternative='greater')\n",
    "            to_print+='fb={0}/fb={1} = {2:0.2E} -- '.format(i,j,Decimal(test[1]))\n",
    "    to_print+='\\n'\n",
    "print('p_value \\n' + to_print)\n",
    "        \n",
    "\n",
    "\n"
   ]
  },
  {
   "cell_type": "code",
   "execution_count": null,
   "metadata": {},
   "outputs": [],
   "source": []
  }
 ],
 "metadata": {
  "kernelspec": {
   "display_name": "Python 3",
   "language": "python",
   "name": "python3"
  },
  "language_info": {
   "codemirror_mode": {
    "name": "ipython",
    "version": 3
   },
   "file_extension": ".py",
   "mimetype": "text/x-python",
   "name": "python",
   "nbconvert_exporter": "python",
   "pygments_lexer": "ipython3",
   "version": "3.8.3"
  }
 },
 "nbformat": 4,
 "nbformat_minor": 2
}

{
 "cells": [
  {
   "cell_type": "code",
   "execution_count": 1,
   "metadata": {},
   "outputs": [],
   "source": [
    "import sys\n",
    "from pathlib import Path\n",
    "\n",
    "sys.path.append(str((Path(\"..\").resolve().absolute())))\n",
    "\n",
    "from SPC_2L.DataTools import DataBase, to_img, show\n",
    "import pickle\n",
    "from SPC_2L.Network import LayerPC, Network\n",
    "from SPC_2L.Coding import ML_FISTA, ML_Lasso\n",
    "import torch.nn.functional as f\n",
    "import matplotlib.pyplot as plt\n",
    "import numpy as np\n",
    "from torchvision.utils import make_grid, save_image\n",
    "import torch\n",
    "from torchvision.transforms import ToTensor,Compose\n",
    "from SPC_2L.DataTools import LCN, whitening, z_score, mask, to_cuda, norm\n",
    "from torchvision.datasets import MNIST\n",
    "from torch.utils.data import DataLoader"
   ]
  },
  {
   "cell_type": "code",
   "execution_count": 2,
   "metadata": {},
   "outputs": [],
   "source": [
    "cmap1=plt.get_cmap('tab20c')\n",
    "cmap2=plt.get_cmap('tab20b')\n",
    "color_fb=[cmap1(21),cmap1(3),cmap1(2),cmap1(1),cmap1(0)]"
   ]
  },
  {
   "cell_type": "code",
   "execution_count": 3,
   "metadata": {},
   "outputs": [],
   "source": [
    "data_path = '../DataSet/MNIST/'\n",
    "\n",
    "transform = Compose([ToTensor(),\n",
    "                    to_cuda(),\n",
    "                    whitening((28,28),f_0=0.6),\n",
    "                    LCN(kernel_size=3,sigma=0.5,rgb=False),\n",
    "                    z_score()])\n",
    "\n",
    "dataset = MNIST(data_path, transform=transform, train=False, download=True)\n",
    "\n",
    "DataBase =  DataLoader(dataset,batch_size=32,shuffle=True,drop_last=True)\n",
    "\n",
    "nb_image = 320"
   ]
  },
  {
   "cell_type": "code",
   "execution_count": 4,
   "metadata": {},
   "outputs": [
    {
     "name": "stdout",
     "output_type": "stream",
     "text": [
      "tensor([[0.0241, 0.0211],\n",
      "        [0.0257, 0.0231],\n",
      "        [0.0255, 0.0301],\n",
      "        [0.0630, 0.1033],\n",
      "        [   nan,    nan]], device='cuda:0')\n",
      "tensor([[0.1339, 0.1185],\n",
      "        [0.1426, 0.1280],\n",
      "        [0.1414, 0.1666],\n",
      "        [0.5106, 0.7652],\n",
      "        [   nan,    nan]], device='cuda:0')\n"
     ]
    }
   ],
   "source": [
    "feedback_list = [0,1,2,3,4]\n",
    "where = 'E:\\\\SDPC\\\\SDPC\\\\notebooks\\\\Savings\\\\MNIST\\\\'\n",
    "model_name = 'MNIST_[0.2,0.3]_b=0.pkl'\n",
    "saving_path = where + 'Saving_MNIST_ActivityPercent.pkl'\n",
    "\n",
    "model_name_list = [\"E:\\\\SDPC\\\\SDPC\\\\notebooks\\\\Savings\\\\MNIST\\\\MNIST_[0.2,0.3]_b=0.pkl\"]\n",
    "\n",
    "all_sparsity = torch.zeros(nb_image,len(feedback_list),2).cuda()\n",
    "all_activity = torch.zeros(len(DataBase.dataset), len(feedback_list),2).cuda()\n",
    "\n",
    "for k_FB in feedback_list:\n",
    "    idx_model=k_FB\n",
    "    k=0\n",
    "    model_type = model_name[0:8]\n",
    "    name = model_name\n",
    "\n",
    "    path = where + name\n",
    "    with open(path, 'rb') as file:\n",
    "        out = pickle.load(file)\n",
    "    Net = out['Net']\n",
    "        \n",
    "    for i in range(Net.nb_layers):\n",
    "        Net.layers[i].b = k_FB\n",
    "    Loss = ML_Lasso(Net, [0.2,0.3])\n",
    "    Pursuit = ML_FISTA(Net, Loss, max_iter=1000, th=1e-4, mode='eigen', accell=True)\n",
    "    for idx_batch, data in enumerate(DataBase):\n",
    "        batch = data[0].cuda()\n",
    "        gamma, it, Loss_G, delta = Pursuit.coding(batch)\n",
    "        for i in range(Net.nb_layers):\n",
    "            nb_null = (gamma[i]).float().view(gamma[i].size(0),-1)\n",
    "            min = nb_null.max() - nb_null.min()\n",
    "            nb_null -= nb_null.min()\n",
    "            nb_null /= min\n",
    "            volume = gamma[i].size(1)*gamma[i].size(2)*gamma[i].size(3)\n",
    "            all_activity[k:k+batch.size(0),k_FB,i] += nb_null.sum(-1)/volume*100\n",
    "        k+=batch.size(0)\n",
    "        if k >= nb_image:\n",
    "            break\n",
    "\n",
    "Exp = {'model_name': model_name_list,\n",
    "        'activity' : all_activity}\n",
    "print(all_activity.mean(dim=0))\n",
    "print(all_activity.std(dim=0))"
   ]
  },
  {
   "cell_type": "code",
   "execution_count": 9,
   "metadata": {},
   "outputs": [
    {
     "ename": "IndexError",
     "evalue": "too many indices for tensor of dimension 0",
     "output_type": "error",
     "traceback": [
      "\u001b[1;31m---------------------------------------------------------------------------\u001b[0m",
      "\u001b[1;31mIndexError\u001b[0m                                Traceback (most recent call last)",
      "\u001b[1;32me:\\SDPC\\SDPC\\notebooks\\1-MNIST_Fig.ipynb Cell 5\u001b[0m line \u001b[0;36m1\n\u001b[0;32m     <a href='vscode-notebook-cell:/e%3A/SDPC/SDPC/notebooks/1-MNIST_Fig.ipynb#W3sZmlsZQ%3D%3D?line=13'>14</a>\u001b[0m width \u001b[39m=\u001b[39m \u001b[39m0.75\u001b[39m \n\u001b[0;32m     <a href='vscode-notebook-cell:/e%3A/SDPC/SDPC/notebooks/1-MNIST_Fig.ipynb#W3sZmlsZQ%3D%3D?line=15'>16</a>\u001b[0m fig \u001b[39m=\u001b[39m plt\u001b[39m.\u001b[39mfigure(figsize\u001b[39m=\u001b[39mfigsize)\n\u001b[1;32m---> <a href='vscode-notebook-cell:/e%3A/SDPC/SDPC/notebooks/1-MNIST_Fig.ipynb#W3sZmlsZQ%3D%3D?line=17'>18</a>\u001b[0m plot_SDPC \u001b[39m=\u001b[39m plt\u001b[39m.\u001b[39mbar(position, \u001b[39m100\u001b[39m\u001b[39m-\u001b[39mmean_sp[:,\u001b[39m0\u001b[39;49m]\u001b[39m.\u001b[39mnumpy(),  yerr\u001b[39m=\u001b[39mstd_sp[:,\u001b[39m0\u001b[39m]\u001b[39m.\u001b[39mnumpy(), align\u001b[39m=\u001b[39m\u001b[39m'\u001b[39m\u001b[39mcenter\u001b[39m\u001b[39m'\u001b[39m,\n\u001b[0;32m     <a href='vscode-notebook-cell:/e%3A/SDPC/SDPC/notebooks/1-MNIST_Fig.ipynb#W3sZmlsZQ%3D%3D?line=18'>19</a>\u001b[0m                  capsize\u001b[39m=\u001b[39m\u001b[39m2\u001b[39m,width\u001b[39m=\u001b[39m\u001b[39m0.75\u001b[39m, color\u001b[39m=\u001b[39m[\u001b[39m'\u001b[39m\u001b[39mslategrey\u001b[39m\u001b[39m'\u001b[39m,cmap1(\u001b[39m3\u001b[39m),cmap1(\u001b[39m2\u001b[39m),cmap1(\u001b[39m1\u001b[39m),cmap1(\u001b[39m0\u001b[39m)])\n\u001b[0;32m     <a href='vscode-notebook-cell:/e%3A/SDPC/SDPC/notebooks/1-MNIST_Fig.ipynb#W3sZmlsZQ%3D%3D?line=20'>21</a>\u001b[0m plt\u001b[39m.\u001b[39mylabel(\u001b[39m'\u001b[39m\u001b[39m% o\u001b[39;00m\u001b[39mf active neurons\u001b[39m\u001b[39m'\u001b[39m, fontsize\u001b[39m=\u001b[39m\u001b[39m15\u001b[39m, labelpad\u001b[39m=\u001b[39m\u001b[39m10\u001b[39m)\n\u001b[0;32m     <a href='vscode-notebook-cell:/e%3A/SDPC/SDPC/notebooks/1-MNIST_Fig.ipynb#W3sZmlsZQ%3D%3D?line=21'>22</a>\u001b[0m xticks_position \u001b[39m=\u001b[39m [\u001b[39m1\u001b[39m \u001b[39m+\u001b[39m\u001b[39m1\u001b[39m\u001b[39m*\u001b[39mi \u001b[39mfor\u001b[39;00m i \u001b[39min\u001b[39;00m \u001b[39mrange\u001b[39m(N)]\n",
      "\u001b[1;31mIndexError\u001b[0m: too many indices for tensor of dimension 0"
     ]
    },
    {
     "data": {
      "text/plain": [
       "<Figure size 640x500 with 0 Axes>"
      ]
     },
     "metadata": {},
     "output_type": "display_data"
    }
   ],
   "source": [
    "save_fig = False\n",
    "figsize = (6.4,5)\n",
    "\n",
    "labels = ['$k_{FB}=0$','$k_{FB}=1$','$k_{FB}=2$','$k_{FB}=3$','$k_{FB}=4$']\n",
    "\n",
    "mean_sp = Exp['activity'].transpose(0,1)[0].mean(dim=0)\n",
    "std_sp = Exp['activity'].transpose(0,1)[0].std(dim=0)\n",
    "model_name_list = Exp['model_name']\n",
    "list_layer= np.arange(len(model_name_list))\n",
    "N = len(list_layer)\n",
    "position = [1 + 1*i for i in range(N)] \n",
    "\n",
    "\n",
    "width = 0.75 \n",
    "\n",
    "fig = plt.figure(figsize=figsize)\n",
    "\n",
    "plot_SDPC = plt.bar(position, 100-mean_sp[:,0].numpy(),  yerr=std_sp[:,0].numpy(), align='center',\n",
    "                 capsize=2,width=0.75, color=['slategrey',cmap1(3),cmap1(2),cmap1(1),cmap1(0)])\n",
    "\n",
    "plt.ylabel('% of active neurons', fontsize=15, labelpad=10)\n",
    "xticks_position = [1 +1*i for i in range(N)]\n",
    "plt.xlabel('feedback strength '+ r'($k_{FB}$)', fontsize=15, labelpad=10)\n",
    "plt.xticks(xticks_position,list_layer , fontsize=15)\n",
    "#plt.title('a) - First Layer sparsity when increasing the \\nfeedback strenght', fontsize=15, pad=15)\n",
    "#plt.ylim()\n",
    "plt.yticks([0,1,2,3,4,5, 6, 7, 8, 9, 10], fontsize=15)\n",
    "#plt.title('i) - AT&T', fontsize=15)\n",
    "'''\n",
    "for i in range(5):\n",
    "    plot_SDPC[i].set_label(labels[i])\n",
    "\n",
    "\n",
    "plt.legend(loc='lower center',bbox_to_anchor=(0.5, -0.5),ncol=5,fontsize=15)\n",
    "'''\n",
    "plt.tight_layout()\n",
    "\n",
    "if save_fig == True:\n",
    "    '''\n",
    "    plt.savefig('Fig3/histo_legend.png', bbox_inches = 'tight', pad_inches = 0.5, dpi= 400)\n",
    "    '''\n",
    "    plt.savefig('Savings/Fig/Fig3/Fig3a.png', bbox_inches = 'tight', pad_inches = 0, dpi= 400)\n",
    "    \n",
    "\n",
    "plt.show()\n"
   ]
  }
 ],
 "metadata": {
  "kernelspec": {
   "display_name": "sdpc",
   "language": "python",
   "name": "python3"
  },
  "language_info": {
   "codemirror_mode": {
    "name": "ipython",
    "version": 3
   },
   "file_extension": ".py",
   "mimetype": "text/x-python",
   "name": "python",
   "nbconvert_exporter": "python",
   "pygments_lexer": "ipython3",
   "version": "3.9.18"
  }
 },
 "nbformat": 4,
 "nbformat_minor": 2
}

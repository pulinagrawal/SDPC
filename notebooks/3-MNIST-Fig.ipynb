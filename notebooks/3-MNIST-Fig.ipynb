{
 "cells": [
  {
   "cell_type": "code",
   "execution_count": 1,
   "metadata": {},
   "outputs": [],
   "source": [
    "import sys\n",
    "from pathlib import Path\n",
    "\n",
    "sys.path.append(str((Path(\"..\").resolve().absolute())))\n",
    "\n",
    "from SPC_2L.DataTools import DataBase, to_img, show\n",
    "import pickle\n",
    "from SPC_2L.Network import LayerPC, Network\n",
    "from SPC_2L.Coding import ML_FISTA, ML_Lasso\n",
    "import torch.nn.functional as f\n",
    "import matplotlib.pyplot as plt\n",
    "import numpy as np\n",
    "from torchvision.utils import make_grid, save_image\n",
    "import torch\n",
    "from torchvision.transforms import ToTensor,Compose\n",
    "from SPC_2L.DataTools import LCN, whitening, z_score, mask, to_cuda, norm\n",
    "from torch.utils.data import DataLoader\n",
    "from torchvision.datasets import STL10"
   ]
  },
  {
   "cell_type": "code",
   "execution_count": 2,
   "metadata": {},
   "outputs": [],
   "source": [
    "cmap1=plt.get_cmap('tab20c')\n",
    "cmap2=plt.get_cmap('tab20b')\n",
    "color_fb=[cmap1(21),cmap1(3),cmap1(2),cmap1(1),cmap1(0)]"
   ]
  },
  {
   "cell_type": "code",
   "execution_count": 3,
   "metadata": {},
   "outputs": [],
   "source": [
    "data_path = '../DataSet/MNIST/'\n",
    "\n",
    "transform = Compose([ToTensor(),\n",
    "                    to_cuda(),\n",
    "                    whitening((28,28),f_0=0.6),\n",
    "                    LCN(kernel_size=3,sigma=0.5,rgb=False),\n",
    "                    z_score()])\n",
    "\n",
    "dataset = MNIST(data_path, transform=transform, train=False, download=True)\n",
    "\n",
    "DataBase =  DataLoader(dataset,batch_size=32,shuffle=True,drop_last=True)"
   ]
  },
  {
   "cell_type": "code",
   "execution_count": 19,
   "metadata": {},
   "outputs": [
    {
     "name": "stdout",
     "output_type": "stream",
     "text": [
      "MNIST_[0.2,0.3]_b=0.pkl\n"
     ]
    },
    {
     "ename": "RuntimeError",
     "evalue": "Given groups=1, weight of size [32, 1, 5, 5], expected input[40, 3, 96, 96] to have 1 channels, but got 3 channels instead",
     "output_type": "error",
     "traceback": [
      "\u001b[1;31m---------------------------------------------------------------------------\u001b[0m",
      "\u001b[1;31mRuntimeError\u001b[0m                              Traceback (most recent call last)",
      "\u001b[1;32me:\\SDPC\\SDPC\\notebooks\\3-Fig.ipynb Cell 4\u001b[0m line \u001b[0;36m3\n\u001b[0;32m     <a href='vscode-notebook-cell:/e%3A/SDPC/SDPC/notebooks/3-Fig.ipynb#W3sZmlsZQ%3D%3D?line=32'>33</a>\u001b[0m \u001b[39mfor\u001b[39;00m idx_batch, data \u001b[39min\u001b[39;00m \u001b[39menumerate\u001b[39m(DataBase):\n\u001b[0;32m     <a href='vscode-notebook-cell:/e%3A/SDPC/SDPC/notebooks/3-Fig.ipynb#W3sZmlsZQ%3D%3D?line=33'>34</a>\u001b[0m     batch \u001b[39m=\u001b[39m data[\u001b[39m0\u001b[39m]\u001b[39m.\u001b[39mcuda()\n\u001b[1;32m---> <a href='vscode-notebook-cell:/e%3A/SDPC/SDPC/notebooks/3-Fig.ipynb#W3sZmlsZQ%3D%3D?line=34'>35</a>\u001b[0m     gamma, it, Loss_G, delta \u001b[39m=\u001b[39m Pursuit\u001b[39m.\u001b[39;49mcoding(batch)\n\u001b[0;32m     <a href='vscode-notebook-cell:/e%3A/SDPC/SDPC/notebooks/3-Fig.ipynb#W3sZmlsZQ%3D%3D?line=36'>37</a>\u001b[0m     \u001b[39mfor\u001b[39;00m i \u001b[39min\u001b[39;00m \u001b[39mrange\u001b[39m(Net\u001b[39m.\u001b[39mnb_layers):\n\u001b[0;32m     <a href='vscode-notebook-cell:/e%3A/SDPC/SDPC/notebooks/3-Fig.ipynb#W3sZmlsZQ%3D%3D?line=37'>38</a>\u001b[0m         nb_null \u001b[39m=\u001b[39m (gamma[i]\u001b[39m!=\u001b[39m\u001b[39m0\u001b[39m)\u001b[39m.\u001b[39mfloat()\u001b[39m.\u001b[39mview(gamma[i]\u001b[39m.\u001b[39msize(\u001b[39m0\u001b[39m),\u001b[39m-\u001b[39m\u001b[39m1\u001b[39m)\u001b[39m.\u001b[39msum(\u001b[39m-\u001b[39m\u001b[39m1\u001b[39m)\n",
      "File \u001b[1;32mE:\\SDPC\\SDPC\\SPC_2L\\Coding.py:88\u001b[0m, in \u001b[0;36mML_FISTA.coding\u001b[1;34m(self, X, flag, gamma_in, softmax, labels)\u001b[0m\n\u001b[0;32m     86\u001b[0m             gamma[i] \u001b[39m=\u001b[39m \u001b[39mself\u001b[39m\u001b[39m.\u001b[39mlayers[i]\u001b[39m.\u001b[39mforward(X)\n\u001b[0;32m     87\u001b[0m         \u001b[39melse\u001b[39;00m :\n\u001b[1;32m---> 88\u001b[0m             gamma[i] \u001b[39m=\u001b[39m torch\u001b[39m.\u001b[39mzeros_like(\u001b[39mself\u001b[39;49m\u001b[39m.\u001b[39;49mlayers[i]\u001b[39m.\u001b[39;49mforward(X))\n\u001b[0;32m     91\u001b[0m gamma_old[i] \u001b[39m=\u001b[39m gamma[i]\n\u001b[0;32m     92\u001b[0m gamma_z[i] \u001b[39m=\u001b[39m gamma[i]\n",
      "File \u001b[1;32mE:\\SDPC\\SDPC\\SPC_2L\\Network.py:79\u001b[0m, in \u001b[0;36mLayerPC.forward\u001b[1;34m(self, x)\u001b[0m\n\u001b[0;32m     77\u001b[0m \u001b[39mdef\u001b[39;00m \u001b[39mforward\u001b[39m(\u001b[39mself\u001b[39m, x):\n\u001b[1;32m---> 79\u001b[0m     \u001b[39mreturn\u001b[39;00m f\u001b[39m.\u001b[39;49mconv2d(x, \u001b[39mself\u001b[39;49m\u001b[39m.\u001b[39;49mdico, stride\u001b[39m=\u001b[39;49m\u001b[39mself\u001b[39;49m\u001b[39m.\u001b[39;49mstride, groups\u001b[39m=\u001b[39;49m\u001b[39mself\u001b[39;49m\u001b[39m.\u001b[39;49mgroups, padding\u001b[39m=\u001b[39;49m\u001b[39mself\u001b[39;49m\u001b[39m.\u001b[39;49mpad) \u001b[39m+\u001b[39m \u001b[39mself\u001b[39m\u001b[39m.\u001b[39mbias\n",
      "\u001b[1;31mRuntimeError\u001b[0m: Given groups=1, weight of size [32, 1, 5, 5], expected input[40, 3, 96, 96] to have 1 channels, but got 3 channels instead"
     ]
    }
   ],
   "source": [
    "save_simulation = True\n",
    "\n",
    "where = \"..\\\\notebooks\\Savings\\MNIST\\\\\"\n",
    "model_name = 'MNIST_[0.2,0.3]_b=0.pkl'\n",
    "saving_path = where + '\\Saving_MNIST_Fig3a.pkl'\n",
    "feedback_list = [0,1,2,3,4]\n",
    "nb_image= len(DataBase.dataset)\n",
    "\n",
    "all_sparsity = torch.zeros(nb_image,len(feedback_list),2)\n",
    "all_activity = torch.zeros(len(feedback_list),2)\n",
    "\n",
    "if save_simulation == True:\n",
    "    \n",
    "    for k_FB in feedback_list:\n",
    "        idx_model=k_FB\n",
    "        k=0\n",
    "        model_type = model_name[0:8]\n",
    "        name = model_name\n",
    "        print(name)\n",
    "\n",
    "        path = where + name\n",
    "        with open(path, 'rb') as file:\n",
    "            out = pickle.load(file)\n",
    "        Net = out['Net']\n",
    "        \n",
    "        for i in range(Net.nb_layers):\n",
    "            Net.layers[i].b = k_FB\n",
    "        Loss = ML_Lasso(Net, [0.4,1.6])\n",
    "        Pursuit = ML_FISTA(Net, Loss, max_iter=1000, th=1e-4, mode='eigen', accell=True)\n",
    "        histo = [0,0]\n",
    "        \n",
    "        for idx_batch, data in enumerate(DataBase):\n",
    "            batch = data[0].cuda()\n",
    "            gamma, it, Loss_G, delta = Pursuit.coding(batch)\n",
    "\n",
    "            for i in range(Net.nb_layers):\n",
    "                nb_null = (gamma[i]!=0).float().view(gamma[i].size(0),-1).sum(-1)\n",
    "                volume = gamma[i].size(1)*gamma[i].size(2)*gamma[i].size(3)\n",
    "                all_sparsity[k:k+batch.size(0),idx_model,i] = (1-nb_null/volume)*100\n",
    "                freq = (gamma[i]!=0).view(batch.size(0),gamma[i].size(1),-1)\n",
    "                freq = freq.sum(-1).sum(0)\n",
    "            \n",
    "            k+=batch.size(0)\n",
    "            if k >= nb_image:\n",
    "                break        \n",
    "\n",
    "    Exp = {'model_name': feedback_list,\n",
    "            'sparsity' : all_sparsity}\n",
    "    \n",
    "    with open(saving_path, 'wb') as file:\n",
    "        pickle.dump(Exp, file, pickle.HIGHEST_PROTOCOL)\n",
    "else : \n",
    "    with open(saving_path, 'rb') as file:\n",
    "        Exp = pickle.load(file)\n"
   ]
  },
  {
   "cell_type": "code",
   "execution_count": 8,
   "metadata": {},
   "outputs": [
    {
     "ename": "NameError",
     "evalue": "name 'Exp' is not defined",
     "output_type": "error",
     "traceback": [
      "\u001b[1;31m---------------------------------------------------------------------------\u001b[0m",
      "\u001b[1;31mNameError\u001b[0m                                 Traceback (most recent call last)",
      "\u001b[1;32me:\\SDPC\\SDPC\\notebooks\\3-Fig.ipynb Cell 5\u001b[0m line \u001b[0;36m6\n\u001b[0;32m      <a href='vscode-notebook-cell:/e%3A/SDPC/SDPC/notebooks/3-Fig.ipynb#W4sZmlsZQ%3D%3D?line=1'>2</a>\u001b[0m figsize \u001b[39m=\u001b[39m (\u001b[39m6.4\u001b[39m,\u001b[39m5\u001b[39m)\n\u001b[0;32m      <a href='vscode-notebook-cell:/e%3A/SDPC/SDPC/notebooks/3-Fig.ipynb#W4sZmlsZQ%3D%3D?line=3'>4</a>\u001b[0m labels \u001b[39m=\u001b[39m [\u001b[39m'\u001b[39m\u001b[39m$k_\u001b[39m\u001b[39m{FB}\u001b[39;00m\u001b[39m=0$\u001b[39m\u001b[39m'\u001b[39m,\u001b[39m'\u001b[39m\u001b[39m$k_\u001b[39m\u001b[39m{FB}\u001b[39;00m\u001b[39m=1$\u001b[39m\u001b[39m'\u001b[39m,\u001b[39m'\u001b[39m\u001b[39m$k_\u001b[39m\u001b[39m{FB}\u001b[39;00m\u001b[39m=2$\u001b[39m\u001b[39m'\u001b[39m,\u001b[39m'\u001b[39m\u001b[39m$k_\u001b[39m\u001b[39m{FB}\u001b[39;00m\u001b[39m=3$\u001b[39m\u001b[39m'\u001b[39m,\u001b[39m'\u001b[39m\u001b[39m$k_\u001b[39m\u001b[39m{FB}\u001b[39;00m\u001b[39m=4$\u001b[39m\u001b[39m'\u001b[39m]\n\u001b[1;32m----> <a href='vscode-notebook-cell:/e%3A/SDPC/SDPC/notebooks/3-Fig.ipynb#W4sZmlsZQ%3D%3D?line=5'>6</a>\u001b[0m mean_sp \u001b[39m=\u001b[39m Exp[\u001b[39m'\u001b[39m\u001b[39msparsity\u001b[39m\u001b[39m'\u001b[39m]\u001b[39m.\u001b[39mmean(dim\u001b[39m=\u001b[39m\u001b[39m0\u001b[39m)\n\u001b[0;32m      <a href='vscode-notebook-cell:/e%3A/SDPC/SDPC/notebooks/3-Fig.ipynb#W4sZmlsZQ%3D%3D?line=6'>7</a>\u001b[0m std_sp \u001b[39m=\u001b[39m Exp[\u001b[39m'\u001b[39m\u001b[39msparsity\u001b[39m\u001b[39m'\u001b[39m]\u001b[39m.\u001b[39mstd(dim\u001b[39m=\u001b[39m\u001b[39m0\u001b[39m)\n\u001b[0;32m      <a href='vscode-notebook-cell:/e%3A/SDPC/SDPC/notebooks/3-Fig.ipynb#W4sZmlsZQ%3D%3D?line=7'>8</a>\u001b[0m model_name_list \u001b[39m=\u001b[39m Exp[\u001b[39m'\u001b[39m\u001b[39mmodel_name\u001b[39m\u001b[39m'\u001b[39m]\n",
      "\u001b[1;31mNameError\u001b[0m: name 'Exp' is not defined"
     ]
    }
   ],
   "source": [
    "save_fig = False\n",
    "figsize = (6.4,5)\n",
    "\n",
    "labels = ['$k_{FB}=0$','$k_{FB}=1$','$k_{FB}=2$','$k_{FB}=3$','$k_{FB}=4$']\n",
    "\n",
    "mean_sp = Exp['sparsity'].mean(dim=0)\n",
    "std_sp = Exp['sparsity'].std(dim=0)\n",
    "model_name_list = Exp['model_name']\n",
    "list_layer= np.arange(len(model_name_list))\n",
    "N = len(list_layer)\n",
    "position = [1 + 1*i for i in range(N)] \n",
    "\n",
    "\n",
    "width = 0.75 \n",
    "\n",
    "fig = plt.figure(figsize=figsize)\n",
    "\n",
    "plot_SDPC = plt.bar(position, 100-mean_sp[:,0].numpy(),  yerr=std_sp[:,0].numpy(), align='center',\n",
    "                 capsize=2,width=0.75, color=['slategrey',cmap1(3),cmap1(2),cmap1(1),cmap1(0)])\n",
    "\n",
    "plt.ylabel('% of active neurons', fontsize=15, labelpad=10)\n",
    "xticks_position = [1 +1*i for i in range(N)]\n",
    "plt.xlabel('feedback strength '+ r'($k_{FB}$)', fontsize=15, labelpad=10)\n",
    "plt.xticks(xticks_position,list_layer , fontsize=15)\n",
    "#plt.title('a) - First Layer sparsity when increasing the \\nfeedback strenght', fontsize=15, pad=15)\n",
    "#plt.ylim()\n",
    "plt.yticks([0,5,10,15,20,25], fontsize=15)\n",
    "#plt.title('i) - AT&T', fontsize=15)\n",
    "'''\n",
    "for i in range(5):\n",
    "    plot_SDPC[i].set_label(labels[i])\n",
    "\n",
    "\n",
    "plt.legend(loc='lower center',bbox_to_anchor=(0.5, -0.5),ncol=5,fontsize=15)\n",
    "'''\n",
    "plt.tight_layout()\n",
    "\n",
    "if save_fig == True:\n",
    "    '''\n",
    "    plt.savefig('Fig3/histo_legend.png', bbox_inches = 'tight', pad_inches = 0.5, dpi= 400)\n",
    "    '''\n",
    "    plt.savefig('Savings/Fig/Fig3/Fig3a.png', bbox_inches = 'tight', pad_inches = 0, dpi= 400)\n",
    "    \n",
    "\n",
    "plt.show()"
   ]
  }
 ],
 "metadata": {
  "kernelspec": {
   "display_name": "sdpc",
   "language": "python",
   "name": "python3"
  },
  "language_info": {
   "codemirror_mode": {
    "name": "ipython",
    "version": 3
   },
   "file_extension": ".py",
   "mimetype": "text/x-python",
   "name": "python",
   "nbconvert_exporter": "python",
   "pygments_lexer": "ipython3",
   "version": "3.9.18"
  }
 },
 "nbformat": 4,
 "nbformat_minor": 2
}
